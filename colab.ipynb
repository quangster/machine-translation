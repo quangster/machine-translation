{
 "cells": [
  {
   "cell_type": "code",
   "execution_count": 1,
   "metadata": {
    "colab": {
     "base_uri": "https://localhost:8080/"
    },
    "id": "vHXF26ZJpSaN",
    "outputId": "812dd3c0-d37c-46b6-b8b8-f9d166340d03"
   },
   "outputs": [
    {
     "name": "stdout",
     "output_type": "stream",
     "text": [
      "Cloning into 'machine-translation'...\n",
      "remote: Enumerating objects: 22, done.\u001b[K\n",
      "remote: Counting objects: 100% (22/22), done.\u001b[K\n",
      "remote: Compressing objects: 100% (18/18), done.\u001b[K\n",
      "remote: Total 22 (delta 1), reused 19 (delta 1), pack-reused 0 (from 0)\u001b[K\n",
      "Receiving objects: 100% (22/22), 5.98 MiB | 5.75 MiB/s, done.\n",
      "Resolving deltas: 100% (1/1), done.\n",
      "/content/machine-translation\n"
     ]
    }
   ],
   "source": [
    "!git clone https://github.com/quangster/machine-translation\n",
    "%cd machine-translation # /content/machine-translation"
   ]
  },
  {
   "cell_type": "code",
   "execution_count": 2,
   "metadata": {
    "colab": {
     "base_uri": "https://localhost:8080/"
    },
    "id": "bvMbLXwTp0eg",
    "outputId": "a661326b-341d-4d5f-83a0-7113cf7e4069"
   },
   "outputs": [
    {
     "name": "stdout",
     "output_type": "stream",
     "text": [
      "Retrieving folder contents\n",
      "Retrieving folder 1OEYSMb7DHvhpHDkyErFfepIjeyDOiDR4 dev\n",
      "Processing file 1Koyp92dplbh_S_9UW8wvskbzHW6Gb5Zw dev.en\n",
      "Processing file 1KVzIWM8IUIS_NdWpctOd_l3FIm901e6L dev.vi\n",
      "Retrieving folder 1FkG-m-LSXaXCrau3yD8s9_f8Llda3KoF test\n",
      "Processing file 18XurJYc9T8i4JKzGRknNIMzEBD5bLDex test.en\n",
      "Processing file 1atCidgee403dxm8mAWIXq9mlfdcYSXc_ test.vi\n",
      "Retrieving folder 1jrfK8TmZghXISDq7JI-LTZyItZRgnEn2 train\n",
      "Processing file 1jR128Bdo7vyQc1OPBCE6zEz0gXF6eUDY train.en\n",
      "Processing file 1hKt2ww1-zZHzXRPl_0ijxUxdWK57XKp1 train.vi\n",
      "Retrieving folder contents completed\n",
      "Building directory structure\n",
      "Building directory structure completed\n",
      "Downloading...\n",
      "From: https://drive.google.com/uc?id=1Koyp92dplbh_S_9UW8wvskbzHW6Gb5Zw\n",
      "To: /content/machine-translation/data/dev/dev.en\n",
      "100% 1.42M/1.42M [00:00<00:00, 124MB/s]\n",
      "Downloading...\n",
      "From: https://drive.google.com/uc?id=1KVzIWM8IUIS_NdWpctOd_l3FIm901e6L\n",
      "To: /content/machine-translation/data/dev/dev.vi\n",
      "100% 1.89M/1.89M [00:00<00:00, 48.6MB/s]\n",
      "Downloading...\n",
      "From: https://drive.google.com/uc?id=18XurJYc9T8i4JKzGRknNIMzEBD5bLDex\n",
      "To: /content/machine-translation/data/test/test.en\n",
      "100% 1.55M/1.55M [00:00<00:00, 139MB/s]\n",
      "Downloading...\n",
      "From: https://drive.google.com/uc?id=1atCidgee403dxm8mAWIXq9mlfdcYSXc_\n",
      "To: /content/machine-translation/data/test/test.vi\n",
      "100% 2.06M/2.06M [00:00<00:00, 128MB/s]\n",
      "Downloading...\n",
      "From (original): https://drive.google.com/uc?id=1jR128Bdo7vyQc1OPBCE6zEz0gXF6eUDY\n",
      "From (redirected): https://drive.google.com/uc?id=1jR128Bdo7vyQc1OPBCE6zEz0gXF6eUDY&confirm=t&uuid=b9ffe730-e00d-4c6b-adaa-73c37eb3ca0e\n",
      "To: /content/machine-translation/data/train/train.en\n",
      "100% 230M/230M [00:02<00:00, 96.2MB/s]\n",
      "Downloading...\n",
      "From (original): https://drive.google.com/uc?id=1hKt2ww1-zZHzXRPl_0ijxUxdWK57XKp1\n",
      "From (redirected): https://drive.google.com/uc?id=1hKt2ww1-zZHzXRPl_0ijxUxdWK57XKp1&confirm=t&uuid=31be3fce-165a-434f-bba8-1b35e6483c56\n",
      "To: /content/machine-translation/data/train/train.vi\n",
      "100% 302M/302M [00:02<00:00, 151MB/s]\n",
      "Download completed\n"
     ]
    }
   ],
   "source": [
    "!pip install -q gdown\n",
    "# download PhoMT data from gg drvie\n",
    "!gdown --folder 1cPdLNnTlsj3N1FE9x6_K608bCAaYaVGM -O data"
   ]
  },
  {
   "cell_type": "code",
   "execution_count": 5,
   "metadata": {
    "colab": {
     "base_uri": "https://localhost:8080/"
    },
    "id": "LzOaQarcrm7d",
    "outputId": "d4140f6c-104d-4490-aa54-1d55d4e2a6a3"
   },
   "outputs": [
    {
     "name": "stdout",
     "output_type": "stream",
     "text": [
      "\u001b[2K   \u001b[90m━━━━━━━━━━━━━━━━━━━━━━━━━━━━━━━━━━━━━━━━\u001b[0m \u001b[32m20.9/20.9 MB\u001b[0m \u001b[31m75.8 MB/s\u001b[0m eta \u001b[36m0:00:00\u001b[0m\n",
      "\u001b[2K   \u001b[90m━━━━━━━━━━━━━━━━━━━━━━━━━━━━━━━━━━━━━━━━\u001b[0m \u001b[32m657.8/657.8 kB\u001b[0m \u001b[31m36.5 MB/s\u001b[0m eta \u001b[36m0:00:00\u001b[0m\n",
      "\u001b[2K   \u001b[90m━━━━━━━━━━━━━━━━━━━━━━━━━━━━━━━━━━━━━━━━\u001b[0m \u001b[32m1.2/1.2 MB\u001b[0m \u001b[31m52.9 MB/s\u001b[0m eta \u001b[36m0:00:00\u001b[0m\n",
      "\u001b[?25h"
     ]
    }
   ],
   "source": [
    "!pip install -q underthesea"
   ]
  },
  {
   "cell_type": "code",
   "execution_count": 6,
   "metadata": {
    "id": "6PI9yfIjqF4_"
   },
   "outputs": [],
   "source": [
    "import pickle\n",
    "from src.dataset import Vocabulary, ViTokenizer, EnTokenizer, MTDataset\n",
    "from tqdm import tqdm\n",
    "import time\n",
    "\n",
    "import nltk\n",
    "nltk.download('punkt_tab')"
   ]
  },
  {
   "cell_type": "code",
   "execution_count": 7,
   "metadata": {
    "colab": {
     "base_uri": "https://localhost:8080/"
    },
    "id": "ZEesLssFrW1O",
    "outputId": "af4b6a6b-2199-41aa-bde9-9e2af8322cd1"
   },
   "outputs": [
    {
     "data": {
      "text/plain": [
       "(32971, 29811)"
      ]
     },
     "execution_count": 7,
     "metadata": {},
     "output_type": "execute_result"
    }
   ],
   "source": [
    "with open('./ckpts/en_vocab.pkl', 'rb') as f:\n",
    "    en_vocab = pickle.load(f)\n",
    "\n",
    "with open('./ckpts/vi_vocab.pkl', 'rb') as f:\n",
    "    vi_vocab = pickle.load(f)\n",
    "\n",
    "en_vocab.n_words, vi_vocab.n_words # en_vocab, vi_vocab is an instance of src.dataset.vocabulary.Vocabulary"
   ]
  },
  {
   "cell_type": "code",
   "execution_count": 8,
   "metadata": {
    "colab": {
     "base_uri": "https://localhost:8080/"
    },
    "id": "MKmi5uw_r28a",
    "outputId": "2aaddf67-641c-4cea-80f7-04013683b191"
   },
   "outputs": [
    {
     "data": {
      "text/plain": [
       "['Đảm', 'bảo', 'chất', 'lượng', 'phòng', ',', 'thí', 'nghiệm', 'hóa', 'học']"
      ]
     },
     "execution_count": 8,
     "metadata": {},
     "output_type": "execute_result"
    }
   ],
   "source": [
    "# vietnamese tokenizer\n",
    "vi_tokenizer = ViTokenizer()\n",
    "vi_tokenizer.tokenize(\"   Ðảm baỏ chất lựơng phòng  , thí nghịêm       hoá học\")\n",
    "# ['Đảm', 'bảo', 'chất', 'lượng', 'phòng', ',', 'thí', 'nghiệm', 'hóa', 'học']"
   ]
  },
  {
   "cell_type": "code",
   "execution_count": 18,
   "metadata": {
    "colab": {
     "base_uri": "https://localhost:8080/"
    },
    "id": "L77S-6Kms83f",
    "outputId": "596385e8-1e22-4f5c-9e67-c17be1615930"
   },
   "outputs": [
    {
     "name": "stdout",
     "output_type": "stream",
     "text": [
      "[2, 6243, 441, 287, 217, 371, 4, 629, 379, 424, 154, 3]\n",
      "['<SOS>', 'Đảm', 'bảo', 'chất', 'lượng', 'phòng', ',', 'thí', 'nghiệm', 'hóa', 'học', '<EOS>']\n"
     ]
    }
   ],
   "source": [
    "indexes = vi_vocab.sentence_to_index(['Đảm', 'bảo', 'chất', 'lượng', 'phòng', ',', 'thí', 'nghiệm', 'hóa', 'học'])\n",
    "print(indexes)\n",
    "print(vi_vocab.indexes_to_sentence(indexes))"
   ]
  },
  {
   "cell_type": "code",
   "execution_count": 11,
   "metadata": {
    "colab": {
     "base_uri": "https://localhost:8080/"
    },
    "id": "83nG_rACsH1z",
    "outputId": "3ad158f4-1f53-4441-bc17-055416f448eb"
   },
   "outputs": [
    {
     "data": {
      "text/plain": [
       "['Hello', ',', 'world', '!', ',', 'I', \"'m\", 'a', 'student', '.']"
      ]
     },
     "execution_count": 11,
     "metadata": {},
     "output_type": "execute_result"
    }
   ],
   "source": [
    "# english tokenizer\n",
    "en_tokenizer = EnTokenizer()\n",
    "en_tokenizer.tokenize(\"Hello,     world!, I'm a student.\")\n",
    "# ['Hello', ',', 'world', '!', ',', 'I', \"'m\", 'a', 'student', '.']"
   ]
  },
  {
   "cell_type": "code",
   "execution_count": 19,
   "metadata": {
    "colab": {
     "base_uri": "https://localhost:8080/"
    },
    "id": "RsxTMfFvstG9",
    "outputId": "229384a4-c302-4a51-8957-4bfd985cd8a0"
   },
   "outputs": [
    {
     "name": "stdout",
     "output_type": "stream",
     "text": [
      "[2, 3337, 4, 101, 279, 4, 12, 74, 8, 1043, 7, 3]\n",
      "['<SOS>', 'Hello', ',', 'world', '!', ',', 'I', \"'m\", 'a', 'student', '.', '<EOS>']\n"
     ]
    }
   ],
   "source": [
    "indexes = en_vocab.sentence_to_index(['Hello', ',', 'world', '!', ',', 'I', \"'m\", 'a', 'student', '.'])\n",
    "print(indexes)\n",
    "print(en_vocab.indexes_to_sentence(indexes))"
   ]
  },
  {
   "cell_type": "code",
   "execution_count": null,
   "metadata": {
    "id": "UTPYWNb6tVwE"
   },
   "outputs": [],
   "source": [
    "## your code goes here !\n",
    "\n"
   ]
  }
 ],
 "metadata": {
  "colab": {
   "provenance": []
  },
  "kernelspec": {
   "display_name": "mt",
   "language": "python",
   "name": "python3"
  },
  "language_info": {
   "name": "python",
   "version": "3.10.15"
  }
 },
 "nbformat": 4,
 "nbformat_minor": 0
}
