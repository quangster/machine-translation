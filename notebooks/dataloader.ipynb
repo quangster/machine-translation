{
 "cells": [
  {
   "cell_type": "code",
   "execution_count": 1,
   "metadata": {},
   "outputs": [],
   "source": [
    "import os\n",
    "import sys\n",
    "\n",
    "notebook_dir = os.path.dirname(os.path.abspath('__file__'))\n",
    "sys.path.append(os.path.join(notebook_dir, '..'))"
   ]
  },
  {
   "cell_type": "code",
   "execution_count": 2,
   "metadata": {},
   "outputs": [],
   "source": [
    "from src.data import Vocabulary, MTDataset, ViTokenizer, EnTokenizer\n",
    "from src.utils.data import read_corpus\n",
    "\n",
    "from tqdm import tqdm"
   ]
  },
  {
   "cell_type": "code",
   "execution_count": 3,
   "metadata": {},
   "outputs": [],
   "source": [
    "en_vocab = Vocabulary.load('../ckpts/en_vocab.json')\n",
    "vi_vocab = Vocabulary.load('../ckpts/vi_vocab.json')"
   ]
  },
  {
   "cell_type": "code",
   "execution_count": 4,
   "metadata": {},
   "outputs": [
    {
     "data": {
      "text/plain": [
       "(Vocabulary[language=english, size=34687],\n",
       " Vocabulary[language=vietnamese, size=21681])"
      ]
     },
     "execution_count": 4,
     "metadata": {},
     "output_type": "execute_result"
    }
   ],
   "source": [
    "en_vocab, vi_vocab"
   ]
  },
  {
   "cell_type": "code",
   "execution_count": 5,
   "metadata": {},
   "outputs": [
    {
     "data": {
      "text/plain": [
       "(2977999, 2977999)"
      ]
     },
     "execution_count": 5,
     "metadata": {},
     "output_type": "execute_result"
    }
   ],
   "source": [
    "train_en_sents, train_vi_sents = read_corpus(\"../data\", \"train\")\n",
    "len(train_en_sents), len(train_vi_sents)"
   ]
  },
  {
   "cell_type": "code",
   "execution_count": 6,
   "metadata": {},
   "outputs": [],
   "source": [
    "train_en_sents = train_en_sents[1300000:1400000]\n",
    "train_vi_sents = train_vi_sents[1300000:1400000]"
   ]
  },
  {
   "cell_type": "code",
   "execution_count": null,
   "metadata": {},
   "outputs": [
    {
     "name": "stderr",
     "output_type": "stream",
     "text": [
      "  0%|          | 0/100000 [00:00<?, ?it/s]"
     ]
    },
    {
     "name": "stderr",
     "output_type": "stream",
     "text": [
      "100%|██████████| 100000/100000 [00:05<00:00, 19538.57it/s]\n",
      "100%|██████████| 100000/100000 [00:05<00:00, 17736.85it/s]\n"
     ]
    }
   ],
   "source": [
    "vi_tokenizer = ViTokenizer()\n",
    "en_tokenizer = EnTokenizer()\n",
    "\n",
    "train_en_sents = [en_tokenizer.tokenize(sent) for sent in tqdm(train_en_sents)]\n",
    "train_vi_sents = [vi_tokenizer.tokenize(sent) for sent in tqdm(train_vi_sents)]"
   ]
  },
  {
   "cell_type": "code",
   "execution_count": 8,
   "metadata": {},
   "outputs": [
    {
     "name": "stdout",
     "output_type": "stream",
     "text": [
      "['When', 'did', 'you', 'guys', 'stop', 'dancing', '?']\n",
      "['Các', 'anh', 'ngưng', 'nhảy', 'lúc', 'nào', 'vậy', '?']\n"
     ]
    }
   ],
   "source": [
    "print(train_en_sents[1])\n",
    "print(train_vi_sents[1])"
   ]
  },
  {
   "cell_type": "code",
   "execution_count": 9,
   "metadata": {},
   "outputs": [
    {
     "name": "stdout",
     "output_type": "stream",
     "text": [
      "[3, 79, 10, 425, 298, 2964, 20]\n",
      "['<unk>', 'did', 'you', 'guys', 'stop', 'dancing', '?']\n"
     ]
    }
   ],
   "source": [
    "print(en_vocab.words2indexes(train_en_sents[1]))\n",
    "print(en_vocab.indexes2words(en_vocab.words2indexes(train_en_sents[1])))"
   ]
  },
  {
   "cell_type": "code",
   "execution_count": 10,
   "metadata": {},
   "outputs": [
    {
     "name": "stdout",
     "output_type": "stream",
     "text": [
      "[3, 23, 2033, 1044, 277, 89, 100, 24]\n",
      "['<unk>', 'anh', 'ngưng', 'nhảy', 'lúc', 'nào', 'vậy', '?']\n"
     ]
    }
   ],
   "source": [
    "print(vi_vocab.words2indexes(train_vi_sents[1]))\n",
    "print(vi_vocab.indexes2words(vi_vocab.words2indexes(train_vi_sents[1])))"
   ]
  },
  {
   "cell_type": "code",
   "execution_count": 11,
   "metadata": {},
   "outputs": [
    {
     "name": "stdout",
     "output_type": "stream",
     "text": [
      "[1, 3, 23, 2033, 1044, 277, 89, 100, 24, 2]\n",
      "['<sos>', '<unk>', 'anh', 'ngưng', 'nhảy', 'lúc', 'nào', 'vậy', '?', '<eos>']\n"
     ]
    }
   ],
   "source": [
    "print(vi_vocab.words2indexes(train_vi_sents[1], add_sos_eos=True))\n",
    "print(vi_vocab.indexes2words(vi_vocab.words2indexes(train_vi_sents[1], add_sos_eos=True)))"
   ]
  },
  {
   "cell_type": "code",
   "execution_count": 12,
   "metadata": {},
   "outputs": [],
   "source": [
    "train_dataset = MTDataset(\n",
    "    inputs=[en_vocab.words2indexes(sent, add_sos_eos=True) for sent in train_en_sents],\n",
    "    outputs=[vi_vocab.words2indexes(sent, add_sos_eos=True) for sent in train_vi_sents],\n",
    "    max_length=20,\n",
    "    padding_idx=en_vocab['<pad>'],\n",
    ")"
   ]
  },
  {
   "cell_type": "code",
   "execution_count": 13,
   "metadata": {},
   "outputs": [],
   "source": [
    "from torch.utils.data import DataLoader\n",
    "\n",
    "train_loader = DataLoader(train_dataset, batch_size=32, shuffle=True)"
   ]
  },
  {
   "cell_type": "code",
   "execution_count": 14,
   "metadata": {},
   "outputs": [
    {
     "data": {
      "text/plain": [
       "(torch.Size([32, 20]), torch.Size([32, 20]))"
      ]
     },
     "execution_count": 14,
     "metadata": {},
     "output_type": "execute_result"
    }
   ],
   "source": [
    "X, y = next(iter(train_loader))\n",
    "X.shape, y.shape"
   ]
  },
  {
   "cell_type": "code",
   "execution_count": 16,
   "metadata": {},
   "outputs": [
    {
     "name": "stdout",
     "output_type": "stream",
     "text": [
      "['<sos>', '<unk>', 'are', 'they', 'wasting', 'their', 'time', 'with', 'him', '?', '<eos>', '<pad>', '<pad>', '<pad>', '<pad>', '<pad>', '<pad>', '<pad>', '<pad>', '<pad>']\n",
      "['<sos>', '<unk>', 'phí', 'thời', 'gian', 'với', 'hắn', 'làm', 'gì', '?', '<eos>', '<pad>', '<pad>', '<pad>', '<pad>', '<pad>', '<pad>', '<pad>', '<pad>', '<pad>']\n"
     ]
    }
   ],
   "source": [
    "print(en_vocab.indexes2words(X[0].numpy()))\n",
    "print(vi_vocab.indexes2words(y[0].numpy()))"
   ]
  },
  {
   "cell_type": "code",
   "execution_count": null,
   "metadata": {},
   "outputs": [],
   "source": []
  }
 ],
 "metadata": {
  "kernelspec": {
   "display_name": "mt",
   "language": "python",
   "name": "python3"
  },
  "language_info": {
   "codemirror_mode": {
    "name": "ipython",
    "version": 3
   },
   "file_extension": ".py",
   "mimetype": "text/x-python",
   "name": "python",
   "nbconvert_exporter": "python",
   "pygments_lexer": "ipython3",
   "version": "3.10.15"
  }
 },
 "nbformat": 4,
 "nbformat_minor": 2
}
